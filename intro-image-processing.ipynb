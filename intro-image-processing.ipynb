{
 "cells": [
  {
   "cell_type": "code",
   "execution_count": 2,
   "id": "c49768d9-985d-4c14-89c6-94b3a45bf11c",
   "metadata": {},
   "outputs": [],
   "source": [
    "#library\n",
    "import cv2 #tüm görüntü işleme işlemleri pip install opencv-python\n",
    "import numpy as np #matris işlemleri pip install numpy"
   ]
  },
  {
   "cell_type": "code",
   "execution_count": 2,
   "id": "c9d4784e-5eae-49a4-8ba9-59e68267b6a1",
   "metadata": {},
   "outputs": [],
   "source": [
    "#reading, saving, displaying images\n",
    "img=cv2.imread(\"datasets/yoda.jpg\")\n",
    "\n",
    "cv2.imwrite(\"datasets/yoda_copy.jpg\", img) #istediğmiz dizine görüntüyü kopyalama\n",
    "\n",
    "cv2.imshow(\"yoda\", img) #ekranda resmi gösterir\n",
    "\n",
    "cv2.waitKey(0) #ekranda bekleme süresi\n",
    "\n",
    "cv2.destroyAllWindows() #tüm pencereleri kapatır"
   ]
  },
  {
   "cell_type": "code",
   "execution_count": 3,
   "id": "e2e39ce5-fa2b-4678-81f6-837b8020b10d",
   "metadata": {},
   "outputs": [
    {
     "name": "stdout",
     "output_type": "stream",
     "text": [
      "original image: [[[11 11 11]\n",
      "  [11 11 11]\n",
      "  [11 11 11]\n",
      "  ...\n",
      "  [25 25 25]\n",
      "  [25 25 25]\n",
      "  [25 25 25]]\n",
      "\n",
      " [[11 11 11]\n",
      "  [11 11 11]\n",
      "  [11 11 11]\n",
      "  ...\n",
      "  [25 25 25]\n",
      "  [25 25 25]\n",
      "  [25 25 25]]\n",
      "\n",
      " [[11 11 11]\n",
      "  [11 11 11]\n",
      "  [11 11 11]\n",
      "  ...\n",
      "  [25 25 25]\n",
      "  [25 25 25]\n",
      "  [25 25 25]]\n",
      "\n",
      " ...\n",
      "\n",
      " [[37 21  4]\n",
      "  [37 21  4]\n",
      "  [37 21  4]\n",
      "  ...\n",
      "  [46 42 31]\n",
      "  [46 42 31]\n",
      "  [46 42 31]]\n",
      "\n",
      " [[37 21  4]\n",
      "  [37 21  4]\n",
      "  [37 21  4]\n",
      "  ...\n",
      "  [46 42 31]\n",
      "  [46 42 31]\n",
      "  [46 42 31]]\n",
      "\n",
      " [[37 21  4]\n",
      "  [37 21  4]\n",
      "  [37 21  4]\n",
      "  ...\n",
      "  [46 42 31]\n",
      "  [46 42 31]\n",
      "  [46 42 31]]]\n",
      "resized image:  [[[12 12 12]\n",
      "  [14 14 14]\n",
      "  [15 15 15]\n",
      "  ...\n",
      "  [16 16 16]\n",
      "  [25 25 25]\n",
      "  [25 25 25]]\n",
      "\n",
      " [[12 12 12]\n",
      "  [13 13 13]\n",
      "  [15 15 15]\n",
      "  ...\n",
      "  [23 23 23]\n",
      "  [24 24 24]\n",
      "  [26 26 26]]\n",
      "\n",
      " [[12 12 12]\n",
      "  [13 13 13]\n",
      "  [15 15 15]\n",
      "  ...\n",
      "  [23 23 23]\n",
      "  [24 24 24]\n",
      "  [25 25 25]]\n",
      "\n",
      " ...\n",
      "\n",
      " [[46 39 32]\n",
      "  [49 41 34]\n",
      "  [53 41 35]\n",
      "  ...\n",
      "  [43 32 23]\n",
      "  [41 29 20]\n",
      "  [45 33 20]]\n",
      "\n",
      " [[40 27 11]\n",
      "  [41 26  8]\n",
      "  [39 25  6]\n",
      "  ...\n",
      "  [40 33 24]\n",
      "  [38 31 22]\n",
      "  [44 38 25]]\n",
      "\n",
      " [[37 21  4]\n",
      "  [38 22  4]\n",
      "  [38 22  4]\n",
      "  ...\n",
      "  [28 26 17]\n",
      "  [52 48 37]\n",
      "  [45 41 30]]]\n"
     ]
    }
   ],
   "source": [
    "#scaling\n",
    "img=cv2.imread(\"datasets/yoda.jpg\")\n",
    "resized_img = cv2.resize(img, (128,128))\n",
    "\n",
    "print(\"original image:\" , img)\n",
    "print(\"resized image: \" , resized_img)\n",
    "\n",
    "cv2.imshow(\"original image\", img)\n",
    "cv2.imshow(\"resized image\", resized_img)\n",
    "\n",
    "cv2.waitKey(0)\n",
    "cv2.destroyAllWindows()"
   ]
  },
  {
   "cell_type": "code",
   "execution_count": 4,
   "id": "012cf483-747f-4ecf-b56a-f17aae5235a5",
   "metadata": {},
   "outputs": [],
   "source": [
    "#roi(region of image)\n",
    "\n",
    "img= cv2.imread(\"datasets/yoda.jpg\")\n",
    "face= img[90:400, 110:615] #ilk girilen pikseller dikey, ikinci girilen pikseller yatay\n",
    "\n",
    "cv2.imshow(\"yoda\", img)\n",
    "cv2.imshow(\"face image\", face)\n",
    "cv2.waitKey(0)\n",
    "cv2.destroyAllWindows()\n"
   ]
  },
  {
   "cell_type": "code",
   "execution_count": 5,
   "id": "b4e9ddd0-cb0c-4c43-aaeb-b19fb66acada",
   "metadata": {},
   "outputs": [
    {
     "name": "stdout",
     "output_type": "stream",
     "text": [
      "original image (1024, 768, 3)\n",
      "Grayscale image (1024, 768)\n",
      "HSV image (1024, 768, 3)\n",
      "RGB image (1024, 768, 3)\n"
     ]
    }
   ],
   "source": [
    "#colorspace\n",
    "img = cv2.imread(\"datasets/yoda.jpg\")#cv2 metodu görüntüleri her zaman BGR formatında okur\n",
    "print(\"original image\",img.shape)\n",
    "\n",
    "gray =cv2.cvtColor(img, cv2.COLOR_BGR2GRAY) #görüntünün colorSpace değiştirme\n",
    "print(\"Grayscale image\", gray.shape) #.shape ile kanal sayısını derinliğini öğreniriz\n",
    "\n",
    "hsv= cv2.cvtColor(img, cv2.COLOR_BGR2HSV)\n",
    "print(\"HSV image\", hsv.shape)\n",
    "\n",
    "rgb=cv2.cvtColor(img, cv2.COLOR_BGR2RGB)\n",
    "print(\"RGB image\", rgb.shape)\n",
    "\n",
    "cv2.imshow(\"original image\", img)\n",
    "cv2.imshow(\"grayscale image\", gray)\n",
    "cv2.imshow(\"HSV image\", hsv)\n",
    "cv2.imshow(\"RGB image\", rgb)\n",
    "\n",
    "cv2.waitKey(0)\n",
    "cv2.destroyAllWindows()"
   ]
  },
  {
   "cell_type": "code",
   "execution_count": 6,
   "id": "d1c15134-ba3a-4d5e-8b1a-6007125563df",
   "metadata": {},
   "outputs": [
    {
     "name": "stdout",
     "output_type": "stream",
     "text": [
      "canva image:  (512, 512, 3)\n"
     ]
    }
   ],
   "source": [
    "#drawing functions - circle\n",
    "\n",
    "color = (255,255,0)\n",
    "canva =np.zeros((512,512,3), dtype=np.uint8)+100\n",
    "print(\"canva image: \", canva.shape)\n",
    "\n",
    "cv2.circle(canva, (100,100), 50, color,-1) \n",
    "cv2.circle(canva, (250,250), 50, color, 2)\n",
    "#0 yazarsak dış kenar en ince çizgi ile çizilir\n",
    "#-1 yazarsak içini doldurur.\n",
    "\n",
    "cv2.imshow(\"canva\", canva)\n",
    "cv2.waitKey(0)\n",
    "cv2.destroyAllWindows()"
   ]
  },
  {
   "cell_type": "code",
   "execution_count": 21,
   "id": "b48a1d84-5dee-44fa-adc0-7b420ea4eb79",
   "metadata": {},
   "outputs": [
    {
     "name": "stdout",
     "output_type": "stream",
     "text": [
      "canva images: (512, 512, 3)\n"
     ]
    }
   ],
   "source": [
    "#drawing rectangle\n",
    "color = (255,255,0)\n",
    "canva=np.zeros((512,512,3), dtype=np.uint8)+100\n",
    "print(\"canva images:\", canva.shape)\n",
    "\n",
    "cv2.rectangle(canva, (100,100), (200,150), color, 0)\n",
    "#(giriş görüntüsü, dikdörtgenin koordinatları, rengi, kalınlığı)\n",
    "cv2.rectangle(canva, (50,50), (100,400), color, -1)\n",
    "\n",
    "cv2.imshow(\"canva\", canva)\n",
    "cv2.waitKey(0)\n",
    "cv2.destroyAllWindows()\n"
   ]
  },
  {
   "cell_type": "code",
   "execution_count": 25,
   "id": "b4c433fb-1ac5-4733-89fa-24ed44af2e4a",
   "metadata": {},
   "outputs": [
    {
     "name": "stdout",
     "output_type": "stream",
     "text": [
      "canva (512, 512, 3)\n"
     ]
    }
   ],
   "source": [
    "#drawing function - text\n",
    "#opencv'de bazı yazı fontları bulunmaktadır \n",
    "\"\"\"\n",
    "HERSHEY_SIMPLEX\n",
    "HERSHEY_PLAIN\n",
    "HERSHEY_DUPLEX\n",
    "HERSHEY_COMPLEX\n",
    "HERSHEP_TRIPLEX\n",
    "HERSHEY_COMPLEX_SMALL\n",
    "HERSHEY_SCRIPT_SIMPLEX\n",
    "HERSHEY_SCRIPT_COMPLEX\n",
    "\"\"\"\n",
    "\n",
    "color=(255,255,0)\n",
    "font= cv2.FONT_HERSHEY_SIMPLEX\n",
    "font_scale=5\n",
    "thickness=2\n",
    "line_type=cv2.LINE_AA\n",
    "\n",
    "canva =np.zeros((512,512,3), dtype=np.uint8)+255\n",
    "#(0,0,0) --> (255,255,255)\n",
    "print(\"canva\", canva.shape)\n",
    "\n",
    "cv2.putText(canva, \"Introduction of OpenCV\", (100,100), font, font_scale, color, thickness, line_type)\n",
    "\n",
    "cv2.imshow(\"canva\", canva)\n",
    "cv2.waitKey(0)\n",
    "cv2.destroyAllWindows()"
   ]
  },
  {
   "cell_type": "code",
   "execution_count": 9,
   "id": "1d4924f2-33c5-4b51-9ccb-2153eb346218",
   "metadata": {},
   "outputs": [],
   "source": [
    "#video displaying\n",
    "import cv2\n",
    "\n",
    "capture=cv2.VideoCapture(\"datasets/skate.mp4\")  # webcam kullanılacaksa cv2.VideoCapture(0) \n",
    "#opencv kare kare okur, çıktı verir bu yüzden video okumak için bir döngüye ihtiyaç vardır\n",
    "while True:\n",
    "    ret, frame= capture.read()  #return edilen değer(true ya da false) , frame\n",
    "    if ret==False:\n",
    "        break\n",
    "\n",
    "    resized_frame=cv2.resize(frame, (450, 200))\n",
    "    hsv = cv2.cvtColor(frame, cv2.COLOR_BGR2HSV)\n",
    "\n",
    "    cv2.imshow(\"Original Video\", frame)\n",
    "    cv2.imshow(\"HSV Video\", hsv)\n",
    "    cv2.imshow(\"resized video\", resized_frame)\n",
    "\n",
    "    if cv2.waitKey(45)& 0xFF == ord(\"q\"): \n",
    "        break\n",
    "    #waitKey(videodaki bir karenin ekranda ne kadar uzun kaldığı sayı arttıkça video yavaşlar) & q tuşunun klavyedeki hex kodu.\n",
    "\n",
    "capture.release() #video ile yapılan işlem bitti, videoyu serbest bırak\n",
    "cv2.destroyAllWindows()\n",
    "\n"
   ]
  },
  {
   "cell_type": "code",
   "execution_count": null,
   "id": "18b579a7-b8cb-4988-bc02-f30c3555a570",
   "metadata": {},
   "outputs": [],
   "source": []
  }
 ],
 "metadata": {
  "kernelspec": {
   "display_name": "Python 3 (ipykernel)",
   "language": "python",
   "name": "python3"
  },
  "language_info": {
   "codemirror_mode": {
    "name": "ipython",
    "version": 3
   },
   "file_extension": ".py",
   "mimetype": "text/x-python",
   "name": "python",
   "nbconvert_exporter": "python",
   "pygments_lexer": "ipython3",
   "version": "3.10.13"
  }
 },
 "nbformat": 4,
 "nbformat_minor": 5
}

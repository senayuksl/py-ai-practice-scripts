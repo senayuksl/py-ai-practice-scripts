{
 "cells": [
  {
   "cell_type": "code",
   "execution_count": 2,
   "id": "405b6536-36f8-45f5-9a45-88d4ec5f7d55",
   "metadata": {},
   "outputs": [],
   "source": [
    "#library\n",
    "from keras.datasets import mnist\n",
    "import numpy as np"
   ]
  },
  {
   "cell_type": "code",
   "execution_count": 3,
   "id": "6f279c12-b3b7-4021-9e4b-7e74109d895e",
   "metadata": {},
   "outputs": [
    {
     "name": "stdout",
     "output_type": "stream",
     "text": [
      "shape of train images: (60000, 28, 28)\n",
      "shape of test images: (10000, 28, 28)\n"
     ]
    }
   ],
   "source": [
    "#train-test-split\n",
    "(train_images, train_labels)=mnist.load_data()[0]\n",
    "(test_images,test_labels)=mnist.load_data()[1]\n",
    "print(\"shape of train images:\", train_images.shape)\n",
    "print(\"shape of test images:\", test_images.shape)\n"
   ]
  },
  {
   "cell_type": "code",
   "execution_count": 4,
   "id": "02002049-b663-41bb-b088-2d1922fd9f9c",
   "metadata": {
    "scrolled": true
   },
   "outputs": [
    {
     "data": {
      "image/png": "[encoded data removed]",
      "text/plain": [
       "<Figure size 640x480 with 1 Axes>"
      ]
     },
     "metadata": {},
     "output_type": "display_data"
    }
   ],
   "source": [
    "#display data\n",
    "import matplotlib.pyplot as plt\n",
    "plt.imshow(train_images[5], cmap=\"gray_r\")\n",
    "plt.show()"
   ]
  },
  {
   "cell_type": "markdown",
   "id": "21e7825e-5a7d-453c-8e7a-a16cbdb8f86d",
   "metadata": {},
   "source": [
    "#preparing data (3D->4D ,normalization:/255)"
   ]
  },
  {
   "cell_type": "code",
   "execution_count": 5,
   "id": "ab10bfdb-618d-4b52-9021-9c440eee8b81",
   "metadata": {},
   "outputs": [
    {
     "name": "stdout",
     "output_type": "stream",
     "text": [
      "shape of train images:  (60000, 28, 28, 1)\n",
      "shape of test images:  (10000, 28, 28, 1)\n"
     ]
    }
   ],
   "source": [
    "#3D -> 4D \n",
    "train_images=train_images.reshape(train_images.shape[0],28,28,1)\n",
    "test_images=test_images.reshape(test_images.shape[0],28,28,1)\n",
    "print(\"shape of train images: \", train_images.shape)\n",
    "print(\"shape of test images: \", test_images.shape)\n"
   ]
  },
  {
   "cell_type": "code",
   "execution_count": 6,
   "id": "2504aa3c-0f5f-4150-964e-9a05fe71983b",
   "metadata": {},
   "outputs": [
    {
     "name": "stdout",
     "output_type": "stream",
     "text": [
      "shape of train types:  float32\n",
      "shape of test types:  float32\n"
     ]
    }
   ],
   "source": [
    "#normalization:/255\n",
    "train_images = train_images.astype(\"float32\")\n",
    "test_images=test_images.astype(\"float32\")\n",
    "train_images/=255\n",
    "test_images/=255\n",
    "print(\"shape of train types: \", train_images.dtype)\n",
    "print(\"shape of test types: \", test_images.dtype)"
   ]
  },
  {
   "cell_type": "code",
   "execution_count": 2,
   "id": "028411d9-e74c-4f40-8bc5-f77b80c7b04a",
   "metadata": {},
   "outputs": [],
   "source": [
    "#creating network\n",
    "from keras.models import Sequential\n",
    "from keras.layers import Conv2D, Dense, Dropout, Flatten, MaxPooling2D\n",
    "\n",
    "input_shape = (28,28,1)\n",
    "\n",
    "model= Sequential()\n",
    "model.add(Conv2D(28,kernel_size=(3,3), input_shape=input_shape))\n",
    "model.add(MaxPooling2D(pool_size=(2,2)))\n",
    "model.add(Flatten())\n",
    "model.add(Dense(128, activation=\"relu\"))\n",
    "model.add(Dropout(0.2))\n",
    "model.add(Dense(10, activation=\"softmax\"))\n"
   ]
  },
  {
   "cell_type": "code",
   "execution_count": 1,
   "id": "67c8e6b3-9c6b-45ac-b5cc-16872c7855ce",
   "metadata": {},
   "outputs": [
    {
     "ename": "NameError",
     "evalue": "name 'model' is not defined",
     "output_type": "error",
     "traceback": [
      "\u001b[1;31m---------------------------------------------------------------------------\u001b[0m",
      "\u001b[1;31mNameError\u001b[0m                                 Traceback (most recent call last)",
      "Cell \u001b[1;32mIn[1], line 2\u001b[0m\n\u001b[0;32m      1\u001b[0m \u001b[38;5;66;03m#compiling model\u001b[39;00m\n\u001b[1;32m----> 2\u001b[0m \u001b[43mmodel\u001b[49m\u001b[38;5;241m.\u001b[39mcompile(optimizer\u001b[38;5;241m=\u001b[39m\u001b[38;5;124m\"\u001b[39m\u001b[38;5;124madam\u001b[39m\u001b[38;5;124m\"\u001b[39m, loss\u001b[38;5;241m=\u001b[39m\u001b[38;5;124m\"\u001b[39m\u001b[38;5;124msparse_categorical_crossentropy\u001b[39m\u001b[38;5;124m\"\u001b[39m, metrics\u001b[38;5;241m=\u001b[39m[\u001b[38;5;124m\"\u001b[39m\u001b[38;5;124maccuracy\u001b[39m\u001b[38;5;124m\"\u001b[39m])\n\u001b[0;32m      3\u001b[0m model\u001b[38;5;241m.\u001b[39msummary()\n",
      "\u001b[1;31mNameError\u001b[0m: name 'model' is not defined"
     ]
    }
   ],
   "source": [
    "#compiling model\n",
    "model.compile(optimizer=\"adam\", loss=\"sparse_categorical_crossentropy\", metrics=[\"accuracy\"])\n",
    "model.summary()"
   ]
  },
  {
   "cell_type": "code",
   "execution_count": 1,
   "id": "edc57a1e-4d12-4504-bffa-560935270b8b",
   "metadata": {},
   "outputs": [
    {
     "ename": "NameError",
     "evalue": "name 'mnist' is not defined",
     "output_type": "error",
     "traceback": [
      "\u001b[1;31m---------------------------------------------------------------------------\u001b[0m",
      "\u001b[1;31mNameError\u001b[0m                                 Traceback (most recent call last)",
      "Cell \u001b[1;32mIn[1], line 2\u001b[0m\n\u001b[0;32m      1\u001b[0m \u001b[38;5;66;03m#fitting model\u001b[39;00m\n\u001b[1;32m----> 2\u001b[0m (train_images, train_labels)\u001b[38;5;241m=\u001b[39m\u001b[43mmnist\u001b[49m\u001b[38;5;241m.\u001b[39mload_data()[\u001b[38;5;241m0\u001b[39m]\n\u001b[0;32m      3\u001b[0m (test_images,test_labels)\u001b[38;5;241m=\u001b[39mmnist\u001b[38;5;241m.\u001b[39mload_data()[\u001b[38;5;241m1\u001b[39m]\n\u001b[0;32m      4\u001b[0m history \u001b[38;5;241m=\u001b[39m model\u001b[38;5;241m.\u001b[39mfit(x\u001b[38;5;241m=\u001b[39mtrain_images, y\u001b[38;5;241m=\u001b[39mtrain_labels, epochs\u001b[38;5;241m=\u001b[39m\u001b[38;5;241m10\u001b[39m)\n",
      "\u001b[1;31mNameError\u001b[0m: name 'mnist' is not defined"
     ]
    }
   ],
   "source": [
    "#fitting model\n",
    "(train_images, train_labels)=mnist.load_data()[0]\n",
    "(test_images,test_labels)=mnist.load_data()[1]\n",
    "history = model.fit(x=train_images, y=train_labels, epochs=10)"
   ]
  },
  {
   "cell_type": "code",
   "execution_count": null,
   "id": "7125e950-c44a-4494-8332-b3a3a5738921",
   "metadata": {},
   "outputs": [],
   "source": [
    "#evaluation model \n",
    "test_loss, test_accuracy = model.evaluate(test_images, test_labels)\n",
    "print(\"test loss: \", test_loss)\n",
    "print(\"test accuracy: \", test_accuracy)\n",
    "hisory_dict = history.history\n",
    "print(\"keys:\" , history_dict.keys())\n"
   ]
  },
  {
   "cell_type": "code",
   "execution_count": null,
   "id": "b89b28a9-fe6a-4f7a-84df-058a29d12d83",
   "metadata": {},
   "outputs": [],
   "source": []
  },
  {
   "cell_type": "code",
   "execution_count": null,
   "id": "ae56cd47-be58-450e-b5ef-35b6ccb7d02d",
   "metadata": {},
   "outputs": [],
   "source": []
  }
 ],
 "metadata": {
  "kernelspec": {
   "display_name": "Python 3 (ipykernel)",
   "language": "python",
   "name": "python3"
  },
  "language_info": {
   "codemirror_mode": {
    "name": "ipython",
    "version": 3
   },
   "file_extension": ".py",
   "mimetype": "text/x-python",
   "name": "python",
   "nbconvert_exporter": "python",
   "pygments_lexer": "ipython3",
   "version": "3.10.13"
  }
 },
 "nbformat": 4,
 "nbformat_minor": 5
}

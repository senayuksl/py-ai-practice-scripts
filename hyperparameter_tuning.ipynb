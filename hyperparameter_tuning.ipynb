{
 "cells": [
  {
   "cell_type": "code",
   "execution_count": 11,
   "id": "de0a537d-0c21-41c7-8c06-893826c41390",
   "metadata": {},
   "outputs": [],
   "source": [
    "from keras import layers\n",
    "from keras.models import Sequential\n",
    "import keras_tuner as kt\n",
    "from tensorflow.keras import optimizers\n"
   ]
  },
  {
   "cell_type": "code",
   "execution_count": 12,
   "id": "31b31658-b4ec-47ec-8112-acca38132758",
   "metadata": {},
   "outputs": [],
   "source": [
    "def build_model(hp):\n",
    "\n",
    "    model = Sequential()\n",
    "    \n",
    "    model.add(layers.Conv2D(32,(3,3),activation=\"relu\", input_shape=(150,150,3)))\n",
    "    model.add(layers.MaxPooling2D((2,2)))\n",
    "    \n",
    "    model.add(layers.Conv2D(64,(3,3),activation=\"relu\", input_shape=(150,150,3)))\n",
    "    model.add(layers.MaxPooling2D((2,2)))\n",
    "    \n",
    "    model.add(layers.Conv2D(128,(3,3), activation=\"relu\", input_shape=(150,150,3)))\n",
    "    model.add(layers.MaxPooling2D((2,2)))\n",
    "    \n",
    "    model.add(layers.Conv2D(128,(3,3),activation=\"relu\", input_shape=(150,150,3)))\n",
    "    model.add(layers.MaxPooling2D((2,2)))\n",
    "    \n",
    "    model.add(layers.Flatten())\n",
    "\n",
    "    #hp_units = hp.Int('units', min_value=32, max_value=512, step=32)\n",
    "    model.add(layers.Dense(units=hp.Choice(\"layer size\", [128,256,512]), activation=\"relu\"))\n",
    "    model.add(layers.Dense(1, activation=\"sigmoid\"))\n",
    "\n",
    "    model.compile(loss=\"binary_crossentropy\", optimizer=optimizers.RMSprop(learning_rate=1e-4),metrics=[\"acc\"])\n",
    "    return model\n"
   ]
  },
  {
   "cell_type": "code",
   "execution_count": 13,
   "id": "dcb53b3d-7e23-4814-a943-534ebba8b38a",
   "metadata": {},
   "outputs": [],
   "source": [
    "keras_tuner=kt.RandomSearch(build_model, objective=\"val_acc\", overwrite=True, max_trials=3, \n",
    "                            directory=\"models/parameter_tuning\", project_name=\"parameter_tuning\")"
   ]
  },
  {
   "cell_type": "code",
   "execution_count": 14,
   "id": "e3192924-736f-49c0-8777-229679b99da1",
   "metadata": {},
   "outputs": [],
   "source": [
    "train_directory=\"datasets/catdog/train\"\n",
    "validation_directory=\"datasets/catdog/validation\""
   ]
  },
  {
   "cell_type": "code",
   "execution_count": 15,
   "id": "5c5a50bf-06b7-4ac1-b203-e67939bcf2eb",
   "metadata": {},
   "outputs": [
    {
     "name": "stdout",
     "output_type": "stream",
     "text": [
      "Found 6400 images belonging to 2 classes.\n",
      "Found 1600 images belonging to 2 classes.\n"
     ]
    }
   ],
   "source": [
    "#data generation\n",
    "from keras.preprocessing.image import ImageDataGenerator\n",
    "import os\n",
    "\n",
    "train_datagen=ImageDataGenerator(rescale=1./255)\n",
    "validation_datagen=ImageDataGenerator(rescale=1./255)\n",
    "\n",
    "train_generator=train_datagen.flow_from_directory(train_directory, target_size=(150,150), batch_size=20, class_mode=\"binary\")\n",
    "validation_generator=validation_datagen.flow_from_directory (validation_directory, target_size=(150,150), batch_size=20, class_mode=\"binary\")\n"
   ]
  },
  {
   "cell_type": "code",
   "execution_count": null,
   "id": "c62f892f-cb6a-49f4-b4f3-4ee77837a5f5",
   "metadata": {},
   "outputs": [
    {
     "name": "stdout",
     "output_type": "stream",
     "text": [
      "Trial 1 Complete [00h 39m 05s]\n",
      "val_acc: 0.8137500286102295\n",
      "\n",
      "Best val_acc So Far: 0.8137500286102295\n",
      "Total elapsed time: 00h 39m 05s\n",
      "\n",
      "Search: Running Trial #2\n",
      "\n",
      "Value             |Best Value So Far |Hyperparameter\n",
      "256               |512               |layer size\n",
      "\n",
      "Epoch 1/25\n",
      "320/320 [==============================] - 85s 265ms/step - loss: 0.6603 - acc: 0.5895 - val_loss: 0.6459 - val_acc: 0.5938\n",
      "Epoch 2/25\n",
      "320/320 [==============================] - 84s 263ms/step - loss: 0.5907 - acc: 0.6809 - val_loss: 0.5711 - val_acc: 0.6938\n",
      "Epoch 3/25\n",
      "320/320 [==============================] - 85s 267ms/step - loss: 0.5442 - acc: 0.7283 - val_loss: 0.5384 - val_acc: 0.7150\n",
      "Epoch 4/25\n",
      "320/320 [==============================] - 84s 264ms/step - loss: 0.5043 - acc: 0.7536 - val_loss: 0.5514 - val_acc: 0.7031\n",
      "Epoch 5/25\n",
      "320/320 [==============================] - 84s 264ms/step - loss: 0.4715 - acc: 0.7747 - val_loss: 0.4651 - val_acc: 0.7788\n",
      "Epoch 6/25\n",
      "320/320 [==============================] - 86s 268ms/step - loss: 0.4437 - acc: 0.7967 - val_loss: 0.4719 - val_acc: 0.7719\n",
      "Epoch 7/25\n",
      "320/320 [==============================] - 95s 298ms/step - loss: 0.4197 - acc: 0.8108 - val_loss: 0.4648 - val_acc: 0.7837\n",
      "Epoch 8/25\n",
      "320/320 [==============================] - 94s 292ms/step - loss: 0.3977 - acc: 0.8200 - val_loss: 0.4390 - val_acc: 0.7894\n",
      "Epoch 9/25\n",
      "320/320 [==============================] - 87s 273ms/step - loss: 0.3761 - acc: 0.8306 - val_loss: 0.4374 - val_acc: 0.8037\n",
      "Epoch 10/25\n",
      "320/320 [==============================] - 88s 274ms/step - loss: 0.3538 - acc: 0.8431 - val_loss: 0.4270 - val_acc: 0.8050\n",
      "Epoch 11/25\n",
      "320/320 [==============================] - 88s 274ms/step - loss: 0.3304 - acc: 0.8584 - val_loss: 0.4400 - val_acc: 0.7850\n",
      "Epoch 12/25\n",
      "320/320 [==============================] - 88s 276ms/step - loss: 0.3067 - acc: 0.8659 - val_loss: 0.5472 - val_acc: 0.7775\n",
      "Epoch 13/25\n",
      "320/320 [==============================] - 88s 275ms/step - loss: 0.2881 - acc: 0.8780 - val_loss: 0.4474 - val_acc: 0.7937\n",
      "Epoch 14/25\n",
      "320/320 [==============================] - 87s 273ms/step - loss: 0.2625 - acc: 0.8867 - val_loss: 0.4661 - val_acc: 0.7981\n",
      "Epoch 15/25\n",
      "320/320 [==============================] - 87s 273ms/step - loss: 0.2361 - acc: 0.9006 - val_loss: 0.4533 - val_acc: 0.8019\n",
      "Epoch 16/25\n",
      "320/320 [==============================] - 88s 276ms/step - loss: 0.2125 - acc: 0.9142 - val_loss: 0.5498 - val_acc: 0.7900\n",
      "Epoch 17/25\n",
      "320/320 [==============================] - 88s 275ms/step - loss: 0.1926 - acc: 0.9231 - val_loss: 0.5157 - val_acc: 0.8000\n",
      "Epoch 18/25\n",
      "320/320 [==============================] - 88s 274ms/step - loss: 0.1731 - acc: 0.9353 - val_loss: 0.4827 - val_acc: 0.8006\n",
      "Epoch 19/25\n",
      "320/320 [==============================] - 86s 270ms/step - loss: 0.1480 - acc: 0.9472 - val_loss: 0.5496 - val_acc: 0.8062\n",
      "Epoch 20/25\n",
      "320/320 [==============================] - 85s 265ms/step - loss: 0.1340 - acc: 0.9517 - val_loss: 0.4992 - val_acc: 0.8056\n",
      "Epoch 21/25\n",
      "320/320 [==============================] - 85s 267ms/step - loss: 0.1108 - acc: 0.9597 - val_loss: 0.5774 - val_acc: 0.8087\n",
      "Epoch 22/25\n",
      "194/320 [=================>............] - ETA: 30s - loss: 0.0963 - acc: 0.9680"
     ]
    }
   ],
   "source": [
    "keras_tuner.search_space_summary()\n",
    "keras_tuner.search(train_generator, validation_data=validation_generator, epochs=25)\n",
    "best_model=keras_tuner.get_best_models()[0]"
   ]
  },
  {
   "cell_type": "code",
   "execution_count": null,
   "id": "6aef871f-d20b-4236-9bfe-f2d492eb11c5",
   "metadata": {},
   "outputs": [],
   "source": []
  },
  {
   "cell_type": "code",
   "execution_count": null,
   "id": "df9ccc85-01fc-4d69-9679-4b32c054a1e4",
   "metadata": {},
   "outputs": [],
   "source": []
  }
 ],
 "metadata": {
  "kernelspec": {
   "display_name": "Python 3 (ipykernel)",
   "language": "python",
   "name": "python3"
  },
  "language_info": {
   "codemirror_mode": {
    "name": "ipython",
    "version": 3
   },
   "file_extension": ".py",
   "mimetype": "text/x-python",
   "name": "python",
   "nbconvert_exporter": "python",
   "pygments_lexer": "ipython3",
   "version": "3.10.13"
  }
 },
 "nbformat": 4,
 "nbformat_minor": 5
}
